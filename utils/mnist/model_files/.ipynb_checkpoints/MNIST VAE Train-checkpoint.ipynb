{
 "cells": [
  {
   "cell_type": "code",
   "execution_count": 1,
   "metadata": {},
   "outputs": [],
   "source": [
    "import torch\n",
    "import torch.nn as nn\n",
    "from torch.autograd import Variable\n",
    "import torchvision.datasets as dsets\n",
    "import torchvision.transforms as transforms\n",
    "import matplotlib.pyplot as plt\n",
    "import torch.nn.functional as F\n",
    "from tqdm import tnrange\n",
    "import numpy as np\n",
    "%matplotlib inline\n",
    "\n",
    "from vae import VAE"
   ]
  },
  {
   "cell_type": "code",
   "execution_count": 2,
   "metadata": {},
   "outputs": [],
   "source": [
    "device = torch.device(\"cuda:1\" if torch.cuda.is_available() else \"cpu\")    "
   ]
  },
  {
   "cell_type": "code",
   "execution_count": 3,
   "metadata": {},
   "outputs": [],
   "source": [
    "img_transform = transforms.Compose([\n",
    "    transforms.ToTensor(),\n",
    "    transforms.Normalize((0.5, 0.5, 0.5), (0.5, 0.5, 0.5))\n",
    "])"
   ]
  },
  {
   "cell_type": "code",
   "execution_count": 4,
   "metadata": {},
   "outputs": [],
   "source": [
    "train = dsets.MNIST(\"./Mnist/\",train=True,transform=img_transform,download=True)\n",
    "test = dsets.MNIST(\"./Mnist/\",train=False,transform=img_transform,download=True)"
   ]
  },
  {
   "cell_type": "code",
   "execution_count": 5,
   "metadata": {},
   "outputs": [],
   "source": [
    "train_data = torch.utils.data.DataLoader(train,batch_size=128,shuffle=True)\n",
    "test_data = torch.utils.data.DataLoader(test,batch_size=128,shuffle=False)"
   ]
  },
  {
   "cell_type": "code",
   "execution_count": 10,
   "metadata": {},
   "outputs": [],
   "source": [
    "Model = VAE(nz = 20,device = device).to(device)"
   ]
  },
  {
   "cell_type": "code",
   "execution_count": 11,
   "metadata": {},
   "outputs": [],
   "source": [
    "def lossfun(x_out,x_in,z_mu,z_logvar):\n",
    "    bce_loss = F.binary_cross_entropy(x_out,x_in,size_average=False)\n",
    "    kld_loss = -0.5 * torch.sum(1 + z_logvar - (z_mu ** 2) - torch.exp(z_logvar))\n",
    "    loss = (bce_loss + kld_loss) / x_out.size(0) # normalize by batch size\n",
    "    return loss"
   ]
  },
  {
   "cell_type": "code",
   "execution_count": 12,
   "metadata": {},
   "outputs": [],
   "source": [
    "optimizer = torch.optim.Adam(Model.parameters())"
   ]
  },
  {
   "cell_type": "code",
   "execution_count": 13,
   "metadata": {},
   "outputs": [
    {
     "data": {
      "application/vnd.jupyter.widget-view+json": {
       "model_id": "8aede9ba2c614ec3b065880412b3f2e4",
       "version_major": 2,
       "version_minor": 0
      },
      "text/plain": [
       "HBox(children=(IntProgress(value=0, description='Epochs', style=ProgressStyle(description_width='initial')), H…"
      ]
     },
     "metadata": {},
     "output_type": "display_data"
    },
    {
     "name": "stderr",
     "output_type": "stream",
     "text": [
      "/home/kadarsh22/miniconda3/lib/python3.6/site-packages/torch/nn/_reduction.py:49: UserWarning: size_average and reduce args will be deprecated, please use reduction='sum' instead.\n",
      "  warnings.warn(warning.format(ret))\n"
     ]
    },
    {
     "name": "stdout",
     "output_type": "stream",
     "text": [
      "Epoch : 0 Train_error : -18093.990177577492\n",
      "Epoch : 1 Train_error : -25350.228861273987\n",
      "Epoch : 2 Train_error : -27363.270872201494\n",
      "Epoch : 3 Train_error : -28904.151244336354\n",
      "Epoch : 4 Train_error : -30086.612410880865\n",
      "Epoch : 5 Train_error : -30972.195204224412\n",
      "Epoch : 6 Train_error : -31563.743041211354\n",
      "Epoch : 7 Train_error : -31882.836341451228\n",
      "Epoch : 8 Train_error : -32021.75579274387\n",
      "Epoch : 9 Train_error : -32052.882862473347\n",
      "Epoch : 10 Train_error : -32083.368599247067\n",
      "Epoch : 11 Train_error : -32137.95954657516\n",
      "Epoch : 12 Train_error : -32233.71772971082\n",
      "Epoch : 13 Train_error : -32360.087661580492\n",
      "Epoch : 14 Train_error : -32511.29450959488\n",
      "Epoch : 15 Train_error : -32673.43857442697\n",
      "Epoch : 16 Train_error : -32761.441277152186\n",
      "Epoch : 17 Train_error : -32652.28536447228\n",
      "Epoch : 18 Train_error : -32537.055982642592\n",
      "Epoch : 19 Train_error : -32101.50544709488\n",
      "Epoch : 20 Train_error : -31440.02249633529\n",
      "Epoch : 21 Train_error : -30732.447119869405\n",
      "Epoch : 22 Train_error : -29778.81518606743\n",
      "Epoch : 23 Train_error : -28736.133291411246\n",
      "Epoch : 24 Train_error : -27571.5474955024\n",
      "Epoch : 25 Train_error : -26446.857863306235\n",
      "Epoch : 26 Train_error : -25376.644106476546\n",
      "Epoch : 27 Train_error : -24263.52743953225\n",
      "Epoch : 28 Train_error : -23312.621010461087\n",
      "Epoch : 29 Train_error : -22416.714893723347\n",
      "Epoch : 30 Train_error : -21679.41165128598\n",
      "Epoch : 31 Train_error : -20994.048853111675\n",
      "Epoch : 32 Train_error : -20400.713731843018\n",
      "Epoch : 33 Train_error : -19981.986544676172\n",
      "Epoch : 34 Train_error : -19553.001166044774\n",
      "Epoch : 35 Train_error : -19339.36209854744\n",
      "Epoch : 36 Train_error : -19121.492408215618\n",
      "Epoch : 37 Train_error : -18926.63311650453\n",
      "Epoch : 38 Train_error : -18777.523208455492\n",
      "Epoch : 39 Train_error : -18630.360520222548\n",
      "Epoch : 40 Train_error : -18530.562574960022\n",
      "Epoch : 41 Train_error : -18486.08927322095\n",
      "Epoch : 42 Train_error : -18427.498946395255\n",
      "Epoch : 43 Train_error : -18367.57659248401\n",
      "Epoch : 44 Train_error : -18353.008208122334\n",
      "Epoch : 45 Train_error : -18311.245069296376\n",
      "Epoch : 46 Train_error : -18286.401823194297\n",
      "Epoch : 47 Train_error : -18276.283332222814\n",
      "Epoch : 48 Train_error : -18255.99425722948\n",
      "Epoch : 49 Train_error : -18250.44939782116\n",
      "Epoch : 50 Train_error : -18233.296441897655\n",
      "Epoch : 51 Train_error : -18227.092204990673\n",
      "Epoch : 52 Train_error : -18215.28048790645\n",
      "Epoch : 53 Train_error : -18210.71908315565\n",
      "Epoch : 54 Train_error : -18208.855073127666\n",
      "Epoch : 55 Train_error : -18198.126778218284\n",
      "Epoch : 56 Train_error : -18191.560646821694\n",
      "Epoch : 57 Train_error : -18187.838677705226\n",
      "Epoch : 58 Train_error : -18184.07361074094\n",
      "Epoch : 59 Train_error : -18180.008757829157\n",
      "Epoch : 60 Train_error : -18180.53366121402\n",
      "Epoch : 61 Train_error : -18179.492666411246\n",
      "Epoch : 62 Train_error : -18174.181823860607\n",
      "Epoch : 63 Train_error : -18171.96563499467\n",
      "Epoch : 64 Train_error : -18168.490438432837\n",
      "Epoch : 65 Train_error : -18168.626898987208\n",
      "Epoch : 66 Train_error : -18166.23965135261\n",
      "Epoch : 67 Train_error : -18163.66700676306\n",
      "Epoch : 68 Train_error : -18164.35428604744\n",
      "Epoch : 69 Train_error : -18163.22120702292\n",
      "Epoch : 70 Train_error : -18161.58348880597\n",
      "Epoch : 71 Train_error : -18159.33456739739\n",
      "Epoch : 72 Train_error : -18160.270280850214\n",
      "Epoch : 73 Train_error : -18159.321286980277\n",
      "Epoch : 74 Train_error : -18160.17475263193\n",
      "Epoch : 75 Train_error : -18157.844391324626\n",
      "Epoch : 76 Train_error : -18155.446291144723\n",
      "Epoch : 77 Train_error : -18156.12615355144\n",
      "Epoch : 78 Train_error : -18155.41873084355\n",
      "Epoch : 79 Train_error : -18155.052792677237\n",
      "Epoch : 80 Train_error : -18154.55018989872\n",
      "Epoch : 81 Train_error : -18156.15023654051\n",
      "Epoch : 82 Train_error : -18155.364655517056\n",
      "Epoch : 83 Train_error : -18154.08563349547\n",
      "Epoch : 84 Train_error : -18153.559751465884\n",
      "Epoch : 85 Train_error : -18153.54894472948\n",
      "Epoch : 86 Train_error : -18153.321907482677\n",
      "Epoch : 87 Train_error : -18153.17018839952\n",
      "Epoch : 88 Train_error : -18153.45794326359\n",
      "Epoch : 89 Train_error : -18153.443088686035\n",
      "Epoch : 90 Train_error : -18152.632575126598\n",
      "Epoch : 91 Train_error : -18152.608225613007\n",
      "Epoch : 92 Train_error : -18153.330253031716\n",
      "Epoch : 93 Train_error : -18153.002673574094\n",
      "Epoch : 94 Train_error : -18152.352462020255\n",
      "Epoch : 95 Train_error : -18152.342363239604\n",
      "Epoch : 96 Train_error : -18152.97141940965\n",
      "Epoch : 97 Train_error : -18152.427005597016\n",
      "Epoch : 98 Train_error : -18151.770638992537\n",
      "Epoch : 99 Train_error : -18152.138771821694\n"
     ]
    }
   ],
   "source": [
    "for i in tnrange(100,desc = 'Epochs'):\n",
    "    losses = []\n",
    "    for j,(images,labels) in enumerate(train_data):\n",
    "        images = Variable(images.view(-1,1,28,28)).to(device)\n",
    "        \n",
    "        out,z_mean,z_stddev = Model.forward(images)\n",
    "        \n",
    "        total_loss = lossfun(out,images,z_mean,z_stddev)\n",
    "        \n",
    "        optimizer.zero_grad()\n",
    "        \n",
    "        total_loss.backward()\n",
    "        \n",
    "        optimizer.step()\n",
    "        \n",
    "        losses.append(total_loss.item())\n",
    "    training_loss = sum(losses)/len(losses)\n",
    "    print(\"Epoch : {} Train_error : {}\".format(i,training_loss) )"
   ]
  },
  {
   "cell_type": "code",
   "execution_count": null,
   "metadata": {},
   "outputs": [],
   "source": []
  }
 ],
 "metadata": {
  "kernelspec": {
   "display_name": "Python 3",
   "language": "python",
   "name": "python3"
  },
  "language_info": {
   "codemirror_mode": {
    "name": "ipython",
    "version": 3
   },
   "file_extension": ".py",
   "mimetype": "text/x-python",
   "name": "python",
   "nbconvert_exporter": "python",
   "pygments_lexer": "ipython3",
   "version": "3.6.8"
  }
 },
 "nbformat": 4,
 "nbformat_minor": 2
}
