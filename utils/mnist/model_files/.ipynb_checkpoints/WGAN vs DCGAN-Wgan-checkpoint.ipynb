{
 "cells": [
  {
   "cell_type": "code",
   "execution_count": 1,
   "metadata": {},
   "outputs": [],
   "source": [
    "import sys\n",
    "sys.path.insert(0, '../utils')\n",
    "import numpy as np\n",
    "import torch\n",
    "from torch.autograd import Variable\n",
    "import torch.nn.functional as F\n",
    "\n",
    "import torchvision\n",
    "import torchvision.transforms as transforms\n",
    "import torchvision.datasets as dsets\n",
    "import torch.nn as nn\n",
    "from Custom_Dataset import NewDataset\n",
    "\n",
    "from lenet_infogan import Lenet\n",
    "from wgan import Generator as GAN\n",
    "import matplotlib.pyplot as plt\n",
    "%matplotlib inline"
   ]
  },
  {
   "cell_type": "code",
   "execution_count": 2,
   "metadata": {},
   "outputs": [],
   "source": [
    "device = torch.device(\"cuda:1\" if torch.cuda.is_available() else \"cpu\")"
   ]
  },
  {
   "cell_type": "code",
   "execution_count": 3,
   "metadata": {},
   "outputs": [],
   "source": [
    "seed = 22"
   ]
  },
  {
   "cell_type": "code",
   "execution_count": 4,
   "metadata": {},
   "outputs": [],
   "source": [
    "torch.backends.cudnn.deterministic = True\n",
    "torch.manual_seed(seed )\n",
    "torch.cuda.manual_seed(seed )\n",
    "np.random.seed(seed)"
   ]
  },
  {
   "cell_type": "code",
   "execution_count": 5,
   "metadata": {},
   "outputs": [
    {
     "data": {
      "text/plain": [
       "Lenet(\n",
       "  (cnn1): Conv2d(1, 32, kernel_size=(3, 3), stride=(1, 1), padding=(1, 1))\n",
       "  (maxpool): MaxPool2d(kernel_size=2, stride=2, padding=0, dilation=1, ceil_mode=False)\n",
       "  (cnn2): Conv2d(32, 64, kernel_size=(3, 3), stride=(1, 1), padding=(1, 1))\n",
       "  (relu): ReLU()\n",
       "  (tanh): Tanh()\n",
       "  (dropout): Dropout(p=0.8)\n",
       "  (fc1): Linear(in_features=3136, out_features=128, bias=True)\n",
       "  (fc2): Linear(in_features=128, out_features=256, bias=True)\n",
       "  (fc3): Linear(in_features=256, out_features=10, bias=True)\n",
       ")"
      ]
     },
     "execution_count": 5,
     "metadata": {},
     "output_type": "execute_result"
    }
   ],
   "source": [
    "G = GAN()\n",
    "G.load_state_dict(torch.load(\"../utils/models/trained_wgan.pkl\",map_location='cuda:1'))\n",
    "G.eval()\n",
    "G.to(device)\n",
    "\n",
    "full_cnn_model = Lenet()\n",
    "full_cnn_model.load_state_dict(torch.load('../utils/models/cnn_lenet_28.pt',map_location='cuda:1'))\n",
    "full_cnn_model.eval()\n",
    "full_cnn_model.to(device)"
   ]
  },
  {
   "cell_type": "code",
   "execution_count": 6,
   "metadata": {},
   "outputs": [],
   "source": [
    "# def generate_image(z) :\n",
    "#     sample = G(z)\n",
    "#     return sample"
   ]
  },
  {
   "cell_type": "code",
   "execution_count": 7,
   "metadata": {},
   "outputs": [],
   "source": [
    "# batch_size = 30000\n",
    "# images = []\n",
    "# z_ = torch.randn(batch_size , 128)\n",
    "# z = Variable(z_).to(device)\n",
    "# samples = generate_image(z).view(-1,1,28,28).to(device)"
   ]
  },
  {
   "cell_type": "code",
   "execution_count": 8,
   "metadata": {},
   "outputs": [],
   "source": [
    "# mnist_1 = torch.load('wgan_mnist_part1',map_location='cuda:1')\n",
    "# mnist_2 = torch.load('wgan_mnist_part2',map_location='cuda:1')\n",
    "# mnist_wgan = torch.cat((mnist_1,mnist_2),dim=0)\n",
    "# grid_img = torchvision.utils.make_grid(mnist_wgan[:50].detach().cpu(), nrow= 10)\n",
    "# plt.imshow(grid_img.permute(1, 2, 0))\n",
    "# plt.show()"
   ]
  },
  {
   "cell_type": "code",
   "execution_count": 9,
   "metadata": {},
   "outputs": [],
   "source": [
    "# mnist_wgan_loader = list(torch.split(mnist_wgan,1000))"
   ]
  },
  {
   "cell_type": "code",
   "execution_count": 10,
   "metadata": {},
   "outputs": [],
   "source": [
    "# labels_list = []\n",
    "# image_list  = []\n",
    "# for images in mnist_wgan_loader:\n",
    "#     out = F.softmax(full_cnn_model(images),dim=1)\n",
    "#     _,labels = torch.max(out.data.cpu(), 1)\n",
    "#     labels_list.append(labels)\n",
    "#     image_list.append(images)"
   ]
  },
  {
   "cell_type": "code",
   "execution_count": 11,
   "metadata": {},
   "outputs": [],
   "source": [
    "# images = torch.stack(image_list).view(-1,1,28,28)\n",
    "# labels = torch.stack(labels_list).view(60000)"
   ]
  },
  {
   "cell_type": "code",
   "execution_count": 12,
   "metadata": {},
   "outputs": [],
   "source": [
    "# grid_img = torchvision.utils.make_grid(images[:50].detach().cpu(), nrow= 10)\n",
    "# plt.imshow(grid_img.permute(1, 2, 0))\n",
    "# plt.show()"
   ]
  },
  {
   "cell_type": "code",
   "execution_count": 13,
   "metadata": {},
   "outputs": [],
   "source": [
    "# labels[:50]"
   ]
  },
  {
   "cell_type": "markdown",
   "metadata": {},
   "source": [
    "## DCGAN"
   ]
  },
  {
   "cell_type": "code",
   "execution_count": 14,
   "metadata": {},
   "outputs": [],
   "source": [
    "# mnist_1 = torch.load('mnist-part1',map_location='cuda:1')\n",
    "# mnist_2 = torch.load('mnist-part2',map_location='cuda:1')\n",
    "# mnist_dcgan = torch.cat((mnist_1,mnist_2),dim=0)\n",
    "# grid_img = torchvision.utils.make_grid(mnist_dcgan[:50].detach().cpu(), nrow= 10)\n",
    "# plt.imshow(grid_img.permute(1, 2, 0))\n",
    "# plt.show()"
   ]
  },
  {
   "cell_type": "code",
   "execution_count": 15,
   "metadata": {},
   "outputs": [],
   "source": [
    "# mnist_dcgan_loader = list(torch.split(mnist_dcgan,1000))"
   ]
  },
  {
   "cell_type": "code",
   "execution_count": 16,
   "metadata": {},
   "outputs": [],
   "source": [
    "# mnist_dcgan_loader[0].shape"
   ]
  },
  {
   "cell_type": "code",
   "execution_count": 17,
   "metadata": {},
   "outputs": [],
   "source": [
    "# labels_list = []\n",
    "# image_list  = []\n",
    "# for images in mnist_dcgan_loader:\n",
    "#     transformed_images = F.upsample(images,mode ='nearest',size = 28)\n",
    "#     out = F.softmax(full_cnn_model(transformed_images),dim=1)\n",
    "#     _,labels = torch.max(out.data.cpu(), 1)\n",
    "#     labels_list.append(labels)\n",
    "#     image_list.append(transformed_images)"
   ]
  },
  {
   "cell_type": "code",
   "execution_count": 18,
   "metadata": {},
   "outputs": [],
   "source": [
    "# images = torch.stack(image_list).view(-1,1,28,28)\n",
    "# labels = torch.stack(labels_list).view(60000)"
   ]
  },
  {
   "cell_type": "code",
   "execution_count": 19,
   "metadata": {},
   "outputs": [],
   "source": [
    "# labels[:50]"
   ]
  },
  {
   "cell_type": "code",
   "execution_count": 20,
   "metadata": {},
   "outputs": [],
   "source": [
    "# grid_img = torchvision.utils.make_grid(images[:50].detach().cpu(), nrow= 10)\n",
    "# plt.imshow(grid_img.permute(1, 2, 0))\n",
    "# plt.show()"
   ]
  },
  {
   "cell_type": "code",
   "execution_count": 21,
   "metadata": {},
   "outputs": [],
   "source": [
    "# labels[:50]"
   ]
  },
  {
   "cell_type": "code",
   "execution_count": 23,
   "metadata": {},
   "outputs": [],
   "source": [
    "# torch.save(images,'wgan_traindata')\n",
    "# torch.save(labels,'wgan_labels')"
   ]
  },
  {
   "cell_type": "code",
   "execution_count": 24,
   "metadata": {},
   "outputs": [],
   "source": [
    "images = torch.load('wgan_traindata').data\n",
    "labels = torch.load('wgan_labels')"
   ]
  },
  {
   "cell_type": "code",
   "execution_count": null,
   "metadata": {},
   "outputs": [],
   "source": [
    "# grid_img = torchvision.utils.make_grid(images[0:50].detach().cpu(), nrow= 10)\n",
    "# plt.imshow(grid_img.permute(1, 2, 0))\n",
    "# plt.show()"
   ]
  },
  {
   "cell_type": "code",
   "execution_count": null,
   "metadata": {},
   "outputs": [],
   "source": [
    "# torch.min(normalised_images[0])"
   ]
  },
  {
   "cell_type": "code",
   "execution_count": 25,
   "metadata": {},
   "outputs": [],
   "source": [
    "transform = transforms.Compose([transforms.Normalize(mean=(0.5, 0.5, 0.5), std=(0.5, 0.5, 0.5))])\n",
    "data = NewDataset(images , labels,transform=transform)"
   ]
  },
  {
   "cell_type": "code",
   "execution_count": 28,
   "metadata": {},
   "outputs": [
    {
     "data": {
      "text/plain": [
       "(tensor([[[-6.9942, -6.9997, -7.0000, -6.9999, -7.0000, -7.0000, -7.0000,\n",
       "           -7.0000, -7.0000, -7.0000, -7.0000, -7.0000, -7.0000, -7.0000,\n",
       "           -7.0000, -7.0000, -7.0000, -7.0000, -7.0000, -7.0000, -7.0000,\n",
       "           -7.0000, -7.0000, -7.0000, -6.9999, -7.0000, -6.9950, -6.9921],\n",
       "          [-6.9999, -7.0000, -7.0000, -7.0000, -7.0000, -7.0000, -7.0000,\n",
       "           -7.0000, -7.0000, -7.0000, -7.0000, -7.0000, -7.0000, -7.0000,\n",
       "           -7.0000, -7.0000, -7.0000, -7.0000, -7.0000, -7.0000, -7.0000,\n",
       "           -7.0000, -7.0000, -7.0000, -7.0000, -7.0000, -6.9973, -6.9904],\n",
       "          [-7.0000, -6.9998, -7.0000, -7.0000, -7.0000, -7.0000, -7.0000,\n",
       "           -7.0000, -7.0000, -7.0000, -7.0000, -7.0000, -7.0000, -7.0000,\n",
       "           -7.0000, -7.0000, -7.0000, -7.0000, -7.0000, -7.0000, -7.0000,\n",
       "           -7.0000, -7.0000, -7.0000, -7.0000, -7.0000, -6.9998, -6.9978],\n",
       "          [-7.0000, -6.9998, -7.0000, -7.0000, -7.0000, -7.0000, -7.0000,\n",
       "           -7.0000, -7.0000, -7.0000, -7.0000, -7.0000, -7.0000, -7.0000,\n",
       "           -7.0000, -6.9999, -7.0000, -6.9999, -7.0000, -7.0000, -7.0000,\n",
       "           -7.0000, -7.0000, -7.0000, -7.0000, -7.0000, -6.9994, -6.9975],\n",
       "          [-7.0000, -6.9999, -7.0000, -7.0000, -7.0000, -7.0000, -7.0000,\n",
       "           -7.0000, -7.0000, -7.0000, -7.0000, -7.0000, -6.9999, -6.9873,\n",
       "           -6.1810, -1.3291, -0.5792,  0.3667, -0.8967, -4.6974, -6.9617,\n",
       "           -6.9998, -6.9997, -7.0000, -6.9999, -7.0000, -6.9999, -6.9979],\n",
       "          [-7.0000, -7.0000, -7.0000, -7.0000, -7.0000, -7.0000, -7.0000,\n",
       "           -7.0000, -7.0000, -7.0000, -7.0000, -6.9997, -6.9895, -6.1933,\n",
       "            0.0419,  0.8923,  0.8999,  0.8559,  0.8205, -1.7674, -6.8540,\n",
       "           -6.9994, -6.9996, -7.0000, -6.9999, -7.0000, -7.0000, -6.9997],\n",
       "          [-7.0000, -7.0000, -7.0000, -7.0000, -7.0000, -7.0000, -7.0000,\n",
       "           -7.0000, -7.0000, -7.0000, -7.0000, -6.9990, -6.7620, -2.7591,\n",
       "            0.8009,  0.8605,  0.7104,  0.6246,  0.9308,  0.7028, -5.5547,\n",
       "           -6.9966, -6.9999, -7.0000, -7.0000, -7.0000, -7.0000, -7.0000],\n",
       "          [-7.0000, -7.0000, -7.0000, -7.0000, -7.0000, -7.0000, -7.0000,\n",
       "           -7.0000, -7.0000, -7.0000, -7.0000, -6.9989, -6.9160, -2.1846,\n",
       "            0.6999, -0.6828, -4.2698, -1.7918,  0.8662,  0.8641, -3.6226,\n",
       "           -6.9877, -7.0000, -7.0000, -6.9999, -7.0000, -7.0000, -6.9999],\n",
       "          [-7.0000, -7.0000, -7.0000, -7.0000, -7.0000, -7.0000, -7.0000,\n",
       "           -7.0000, -7.0000, -7.0000, -7.0000, -6.9973, -6.9549, -5.0491,\n",
       "           -2.7650, -5.8910, -6.1751, -3.6910,  0.8061,  0.8141, -3.6866,\n",
       "           -6.9877, -7.0000, -7.0000, -6.9998, -7.0000, -7.0000, -6.9998],\n",
       "          [-7.0000, -7.0000, -7.0000, -7.0000, -7.0000, -7.0000, -7.0000,\n",
       "           -7.0000, -7.0000, -7.0000, -7.0000, -6.9972, -6.9764, -6.2417,\n",
       "           -5.1155, -6.1265, -3.3400,  0.5761,  0.9447,  0.5916, -6.0906,\n",
       "           -6.9971, -7.0000, -7.0000, -7.0000, -7.0000, -7.0000, -6.9994],\n",
       "          [-6.9996, -7.0000, -7.0000, -7.0000, -7.0000, -7.0000, -7.0000,\n",
       "           -7.0000, -7.0000, -7.0000, -6.9999, -6.9988, -6.9927, -6.6264,\n",
       "           -5.2561, -3.5169,  0.6843,  0.9524,  0.7463, -3.7468, -6.9505,\n",
       "           -6.9996, -7.0000, -7.0000, -7.0000, -7.0000, -6.9999, -6.9992],\n",
       "          [-6.9999, -7.0000, -7.0000, -7.0000, -7.0000, -7.0000, -7.0000,\n",
       "           -7.0000, -7.0000, -7.0000, -6.9997, -6.9954, -6.9010, -3.3174,\n",
       "           -0.6617,  0.1914,  0.9331,  0.7610, -4.6921, -6.8072, -6.9919,\n",
       "           -6.9998, -7.0000, -7.0000, -7.0000, -7.0000, -7.0000, -6.9989],\n",
       "          [-6.9988, -6.9999, -6.9975, -6.9893, -7.0000, -7.0000, -7.0000,\n",
       "           -7.0000, -7.0000, -6.9999, -6.9868, -6.8908, -3.9114,  0.7035,\n",
       "            0.9546,  0.8740, -0.1675, -6.7356, -6.8274, -6.9921, -6.9986,\n",
       "           -6.9993, -7.0000, -7.0000, -7.0000, -7.0000, -7.0000, -6.9997],\n",
       "          [-6.9996, -7.0000, -6.9997, -6.9994, -7.0000, -7.0000, -7.0000,\n",
       "           -7.0000, -6.9986, -6.9422, -3.7004, -0.8420,  0.5777,  0.9521,\n",
       "            0.9819,  0.7496, -5.7807, -6.9956, -6.9961, -6.9998, -6.9999,\n",
       "           -6.9998, -6.9999, -7.0000, -7.0000, -7.0000, -7.0000, -6.9990],\n",
       "          [-6.9999, -7.0000, -7.0000, -7.0000, -7.0000, -7.0000, -7.0000,\n",
       "           -7.0000, -6.9786, -6.8182, -2.3675, -3.0892, -2.7906,  0.2918,\n",
       "            0.9332,  0.6267, -6.0135, -6.9948, -6.9950, -6.9999, -7.0000,\n",
       "           -7.0000, -7.0000, -7.0000, -7.0000, -7.0000, -7.0000, -6.9994],\n",
       "          [-7.0000, -7.0000, -7.0000, -7.0000, -7.0000, -7.0000, -7.0000,\n",
       "           -6.9998, -6.9781, -6.9503, -6.7839, -6.9700, -6.9709, -6.8897,\n",
       "           -0.3236,  0.7735, -3.9556, -6.9890, -6.9708, -6.9999, -7.0000,\n",
       "           -7.0000, -7.0000, -7.0000, -7.0000, -7.0000, -7.0000, -6.9997],\n",
       "          [-6.9999, -7.0000, -7.0000, -7.0000, -7.0000, -7.0000, -7.0000,\n",
       "           -7.0000, -6.9982, -6.9940, -6.9978, -7.0000, -7.0000, -6.9999,\n",
       "           -6.4286,  0.9119, -0.6274, -6.9161, -6.9581, -6.9999, -7.0000,\n",
       "           -7.0000, -7.0000, -7.0000, -7.0000, -7.0000, -6.9999, -6.9988],\n",
       "          [-7.0000, -7.0000, -7.0000, -7.0000, -7.0000, -7.0000, -7.0000,\n",
       "           -7.0000, -6.9992, -6.9995, -7.0000, -7.0000, -7.0000, -6.9999,\n",
       "           -5.2238,  0.9538, -0.3723, -6.6965, -6.9562, -7.0000, -7.0000,\n",
       "           -7.0000, -7.0000, -7.0000, -7.0000, -7.0000, -7.0000, -6.9996],\n",
       "          [-7.0000, -7.0000, -7.0000, -7.0000, -7.0000, -7.0000, -7.0000,\n",
       "           -6.9978, -6.9818, -6.9947, -6.9999, -7.0000, -7.0000, -6.9933,\n",
       "            0.1865,  0.9858, -1.2033, -6.7839, -6.9546, -7.0000, -7.0000,\n",
       "           -7.0000, -7.0000, -7.0000, -7.0000, -7.0000, -7.0000, -6.9999],\n",
       "          [-7.0000, -7.0000, -7.0000, -7.0000, -7.0000, -7.0000, -6.9946,\n",
       "           -5.5068, -1.2124, -6.4138, -6.9995, -7.0000, -6.9987, -6.5232,\n",
       "            0.9051,  0.9688, -2.6534, -6.9046, -6.9970, -7.0000, -7.0000,\n",
       "           -7.0000, -7.0000, -7.0000, -7.0000, -7.0000, -7.0000, -6.9996],\n",
       "          [-7.0000, -7.0000, -7.0000, -7.0000, -7.0000, -6.9984, -6.1810,\n",
       "            0.5863,  0.9569, -0.1495, -6.5037, -6.9336, -5.7280,  0.6139,\n",
       "            0.9730,  0.7950, -6.1148, -6.9836, -6.9999, -7.0000, -7.0000,\n",
       "           -7.0000, -7.0000, -7.0000, -7.0000, -7.0000, -7.0000, -6.9998],\n",
       "          [-7.0000, -7.0000, -7.0000, -7.0000, -7.0000, -6.9992, -5.6234,\n",
       "            0.7381,  0.9936,  0.9805,  0.8640,  0.8525,  0.9691,  0.9701,\n",
       "            0.7332, -3.1267, -6.8878, -6.9999, -7.0000, -7.0000, -7.0000,\n",
       "           -7.0000, -7.0000, -7.0000, -7.0000, -7.0000, -7.0000, -6.9999],\n",
       "          [-6.9999, -7.0000, -7.0000, -7.0000, -7.0000, -6.9993, -6.7047,\n",
       "           -1.0197,  0.9733,  0.9948,  0.9972,  0.9943,  0.9816,  0.7065,\n",
       "           -3.0540, -6.5643, -6.9988, -7.0000, -7.0000, -7.0000, -7.0000,\n",
       "           -7.0000, -7.0000, -7.0000, -7.0000, -7.0000, -7.0000, -6.9997],\n",
       "          [-7.0000, -7.0000, -7.0000, -7.0000, -7.0000, -7.0000, -6.9984,\n",
       "           -6.8622, -2.3725,  0.7895,  0.9829,  0.9620,  0.4765, -3.3053,\n",
       "           -6.6356, -6.9918, -6.9998, -7.0000, -7.0000, -7.0000, -7.0000,\n",
       "           -7.0000, -7.0000, -7.0000, -7.0000, -7.0000, -7.0000, -6.9999],\n",
       "          [-6.9997, -7.0000, -7.0000, -7.0000, -7.0000, -7.0000, -7.0000,\n",
       "           -7.0000, -6.9999, -6.9990, -6.9992, -6.9993, -6.9996, -6.9998,\n",
       "           -7.0000, -7.0000, -7.0000, -7.0000, -6.9999, -7.0000, -7.0000,\n",
       "           -7.0000, -6.9996, -7.0000, -6.9999, -7.0000, -7.0000, -6.9999],\n",
       "          [-7.0000, -7.0000, -7.0000, -7.0000, -7.0000, -7.0000, -7.0000,\n",
       "           -7.0000, -7.0000, -7.0000, -7.0000, -7.0000, -7.0000, -7.0000,\n",
       "           -7.0000, -7.0000, -7.0000, -7.0000, -7.0000, -7.0000, -7.0000,\n",
       "           -7.0000, -7.0000, -7.0000, -7.0000, -7.0000, -7.0000, -6.9998],\n",
       "          [-6.9833, -6.9981, -6.9995, -6.9996, -6.9999, -7.0000, -7.0000,\n",
       "           -7.0000, -7.0000, -7.0000, -7.0000, -7.0000, -7.0000, -7.0000,\n",
       "           -7.0000, -7.0000, -7.0000, -7.0000, -7.0000, -7.0000, -7.0000,\n",
       "           -7.0000, -6.9999, -7.0000, -6.9995, -7.0000, -7.0000, -6.9997],\n",
       "          [-6.9998, -7.0000, -7.0000, -6.9999, -7.0000, -7.0000, -7.0000,\n",
       "           -7.0000, -7.0000, -7.0000, -7.0000, -7.0000, -7.0000, -7.0000,\n",
       "           -7.0000, -7.0000, -7.0000, -7.0000, -7.0000, -7.0000, -7.0000,\n",
       "           -7.0000, -7.0000, -7.0000, -6.9999, -7.0000, -6.9999, -6.9985]]],\n",
       "        device='cuda:1'), tensor(3))"
      ]
     },
     "execution_count": 28,
     "metadata": {},
     "output_type": "execute_result"
    }
   ],
   "source": [
    "data[0]"
   ]
  },
  {
   "cell_type": "code",
   "execution_count": null,
   "metadata": {},
   "outputs": [],
   "source": [
    "plt.imshow(np.reshape(data[4][0].detach().cpu().numpy(),newshape=(28,28)),cmap='gray')"
   ]
  },
  {
   "cell_type": "code",
   "execution_count": null,
   "metadata": {},
   "outputs": [],
   "source": [
    "# grid_img = torchvision.utils.make_grid(data[:50].detach().cpu(), nrow= 10)\n",
    "# plt.imshow(grid_img.permute(1, 2, 0))\n",
    "# plt.show()"
   ]
  },
  {
   "cell_type": "code",
   "execution_count": null,
   "metadata": {},
   "outputs": [],
   "source": [
    "train_loader = torch.utils.data.DataLoader(dataset=data, batch_size=100, shuffle=True)"
   ]
  },
  {
   "cell_type": "code",
   "execution_count": null,
   "metadata": {},
   "outputs": [],
   "source": [
    "len(train_loader)"
   ]
  },
  {
   "cell_type": "code",
   "execution_count": 29,
   "metadata": {},
   "outputs": [],
   "source": [
    "transform = transforms.Compose([transforms.ToTensor(),\n",
    "                                transforms.Normalize(mean=(0.5, 0.5, 0.5), std=(0.5, 0.5, 0.5))\n",
    "    ])\n",
    "test_dataset = dsets.MNIST(root='./newminst_wgan', \n",
    "                           train=False, \n",
    "                           transform=transform,download=True)\n",
    "test_loader = torch.utils.data.DataLoader(dataset=test_dataset, \n",
    "                                          batch_size=100, \n",
    "                                          shuffle=False)"
   ]
  },
  {
   "cell_type": "code",
   "execution_count": null,
   "metadata": {},
   "outputs": [],
   "source": [
    "full_cnn_model = Lenet()\n",
    "full_cnn_model.to(device)\n",
    "\n",
    "criterion = nn.CrossEntropyLoss()\n",
    "learning_rate = 0.001\n",
    "optimizer = torch.optim.Adam(full_cnn_model.parameters(), lr=learning_rate) "
   ]
  },
  {
   "cell_type": "code",
   "execution_count": null,
   "metadata": {},
   "outputs": [],
   "source": [
    "full_cnn_model"
   ]
  },
  {
   "cell_type": "code",
   "execution_count": null,
   "metadata": {},
   "outputs": [],
   "source": [
    "images.shape"
   ]
  },
  {
   "cell_type": "code",
   "execution_count": null,
   "metadata": {},
   "outputs": [],
   "source": [
    "for epoch in range(60):\n",
    "    train_loss_list = []\n",
    "    test_loss_list = []\n",
    "\n",
    "    full_cnn_model.train()\n",
    "    for i, (images, labels) in enumerate(train_loader):\n",
    "        images = Variable(images).to(device)\n",
    "        labels = Variable(labels).to(device)\n",
    "        optimizer.zero_grad()\n",
    "        outputs = full_cnn_model (images)\n",
    "        loss = criterion(outputs, labels)\n",
    "        loss.backward()\n",
    "        optimizer.step()\n",
    "        train_loss_list.append(loss.item())\n",
    "    \n",
    "    full_cnn_model.eval()\n",
    "    accuracy_list = []\n",
    "    for i, (images, labels) in enumerate(test_loader):\n",
    "        images = Variable(images).to(device)\n",
    "        labels = Variable(labels).to(device)\n",
    "        outputs = full_cnn_model(images)\n",
    "        loss = criterion(outputs, labels)\n",
    "        _, predicted = torch.max(outputs.data, 1)\n",
    "        total = labels.size(0)\n",
    "        correct = (predicted == labels).sum()\n",
    "        accuracy = 100 * (float(correct) /float( total))\n",
    "        accuracy_list.append(accuracy)\n",
    "        test_loss_list.append(loss.item())\n",
    "    final_accuracy = sum(accuracy_list)/len(accuracy_list)\n",
    "    traininig_loss = sum(train_loss_list)/len(train_loss_list)\n",
    "    testing_loss = sum(test_loss_list)/len(test_loss_list)\n",
    "    print('Epoch: {}. TrainLoss: {}. TestLoss: {}. Accuracy: {}'.format(epoch, traininig_loss,testing_loss, final_accuracy))"
   ]
  },
  {
   "cell_type": "code",
   "execution_count": null,
   "metadata": {},
   "outputs": [],
   "source": [
    "test_dataset[0]"
   ]
  },
  {
   "cell_type": "code",
   "execution_count": null,
   "metadata": {},
   "outputs": [],
   "source": [
    "data[0]"
   ]
  },
  {
   "cell_type": "code",
   "execution_count": null,
   "metadata": {},
   "outputs": [],
   "source": []
  }
 ],
 "metadata": {
  "kernelspec": {
   "display_name": "Python 3",
   "language": "python",
   "name": "python3"
  },
  "language_info": {
   "codemirror_mode": {
    "name": "ipython",
    "version": 3
   },
   "file_extension": ".py",
   "mimetype": "text/x-python",
   "name": "python",
   "nbconvert_exporter": "python",
   "pygments_lexer": "ipython3",
   "version": "3.6.5"
  }
 },
 "nbformat": 4,
 "nbformat_minor": 2
}
