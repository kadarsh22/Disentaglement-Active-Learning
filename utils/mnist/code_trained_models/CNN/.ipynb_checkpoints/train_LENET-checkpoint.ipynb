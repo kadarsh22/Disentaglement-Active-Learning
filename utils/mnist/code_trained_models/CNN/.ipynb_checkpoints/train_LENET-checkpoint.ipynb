{
 "cells": [
  {
   "cell_type": "code",
   "execution_count": 1,
   "metadata": {},
   "outputs": [],
   "source": [
    "import torch\n",
    "import torch.nn as nn\n",
    "from torch.autograd import Variable\n",
    "import torch.nn.functional as F\n",
    "import torch.optim as optim\n",
    "import torchvision\n",
    "import torchvision.transforms as transforms\n",
    "import torchvision.datasets as dsets\n",
    "import pickle\n",
    "import numpy as np\n",
    "import random\n",
    "from torch.utils.data.dataset import random_split\n",
    "\n",
    "import sys\n",
    "sys.path.insert(0, '../../')\n",
    "\n",
    "from early_stopping import EarlyStopping"
   ]
  },
  {
   "cell_type": "code",
   "execution_count": 2,
   "metadata": {},
   "outputs": [],
   "source": [
    "random_seed = 123\n",
    "torch.backends.cudnn.deterministic = True\n",
    "torch.manual_seed(random_seed )\n",
    "torch.cuda.manual_seed(random_seed )\n",
    "np.random.seed(random_seed)\n",
    "random.seed(random_seed)"
   ]
  },
  {
   "cell_type": "code",
   "execution_count": 3,
   "metadata": {},
   "outputs": [],
   "source": [
    "\n",
    "transform = transforms.Compose([transforms.ToTensor()])\n",
    "\n",
    "\n",
    "train_dataset = dsets.MNIST(root='./data', train=True, transform=transform,download=True)\n",
    "\n",
    "\n",
    "test_dataset = dsets.MNIST(root='./data', train=False, transform= transform)\n"
   ]
  },
  {
   "cell_type": "code",
   "execution_count": 4,
   "metadata": {},
   "outputs": [],
   "source": [
    "class Lenet28(nn.Module):\n",
    "    def __init__(self):\n",
    "        super(Lenet28, self).__init__()\n",
    "        \n",
    "        self.cnn1 = nn.Conv2d(in_channels=1, out_channels=32, kernel_size=3, stride=1, padding=1)  \n",
    "        self.maxpool = nn.MaxPool2d(kernel_size=2)   \n",
    "        self.cnn2 = nn.Conv2d(in_channels=32, out_channels=64, kernel_size=3, stride=1, padding=1)     \n",
    "        \n",
    "        self.relu = nn.ReLU()\n",
    "        self.tanh = nn.Tanh()\n",
    "        self.dropout = nn.Dropout(0.8) \n",
    "        \n",
    "        self.fc1 = nn.Linear(64*7*7, 128) \n",
    "        self.fc2 = nn.Linear(128, 256)\n",
    "        self.fc3 = nn.Linear(256, 10)\n",
    "        \n",
    "\n",
    "    \n",
    "    def forward(self, x):\n",
    " \n",
    "        out = self.relu(self.cnn1(x))\n",
    "        out = self.maxpool(out)\n",
    "        out = self.relu(self.cnn2(out))\n",
    "        out = self.maxpool(out)\n",
    "        out = out.view(out.size(0), -1)\n",
    "        out = self.tanh(self.fc1(out))\n",
    "        out = self.dropout(out)\n",
    "        out = self.tanh(self.fc2(out))\n",
    "        out = self.dropout(out)\n",
    "        out = self.fc3(out)\n",
    "  \n",
    "        return out"
   ]
  },
  {
   "cell_type": "code",
   "execution_count": null,
   "metadata": {},
   "outputs": [],
   "source": [
    "# class Lenet64(nn.Module):\n",
    "#     def __init__(self):\n",
    "#         super(Lenet64, self).__init__()\n",
    "        \n",
    "#         self.cnn1 = nn.Conv2d(in_channels=1, out_channels=32, kernel_size=3, stride=1, padding=1)  \n",
    "#         self.maxpool = nn.MaxPool2d(kernel_size=2)   \n",
    "#         self.cnn2 = nn.Conv2d(in_channels=32, out_channels=64, kernel_size=3, stride=1, padding=1)     \n",
    "        \n",
    "#         self.relu = nn.ReLU()\n",
    "#         self.tanh = nn.Tanh()\n",
    "#         self.dropout = nn.Dropout(0.8) \n",
    "        \n",
    "#         self.fc1 = nn.Linear(64*16*16, 128) \n",
    "#         self.fc2 = nn.Linear(128, 256)\n",
    "#         self.fc3 = nn.Linear(256, 10)\n",
    "        \n",
    "\n",
    "    \n",
    "#     def forward(self, x):\n",
    " \n",
    "#         out = self.relu(self.cnn1(x))\n",
    "#         out = self.maxpool(out)\n",
    "#         out = self.relu(self.cnn2(out))\n",
    "#         out = self.maxpool(out)\n",
    "#         out = out.view(out.size(0), -1)\n",
    "#         out = self.tanh(self.fc1(out))\n",
    "#         out = self.dropout(out)\n",
    "#         out = self.tanh(self.fc2(out))\n",
    "#         out = self.dropout(out)\n",
    "#         out = self.fc3(out)\n",
    "  \n",
    "#         return out"
   ]
  },
  {
   "cell_type": "code",
   "execution_count": null,
   "metadata": {},
   "outputs": [],
   "source": []
  },
  {
   "cell_type": "code",
   "execution_count": 5,
   "metadata": {},
   "outputs": [],
   "source": [
    "NUM_CLASSES = 10 \n",
    "BATCH_SIZE = 100\n",
    "NUM_EPOCHS = 10000"
   ]
  },
  {
   "cell_type": "code",
   "execution_count": 6,
   "metadata": {},
   "outputs": [],
   "source": [
    "model = Lenet28()\n",
    "device = torch.device(\"cuda:0\" if torch.cuda.is_available() else \"cpu\")\n",
    "model.to(device)\n",
    "\n",
    "criterion = nn.CrossEntropyLoss()\n",
    "learning_rate = 0.001\n",
    "\n",
    "n_iters = NUM_EPOCHS * (len(train_dataset) / BATCH_SIZE)\n",
    "\n",
    "optimizer = torch.optim.Adam(model.parameters(), lr=learning_rate) "
   ]
  },
  {
   "cell_type": "code",
   "execution_count": 7,
   "metadata": {},
   "outputs": [],
   "source": [
    "train_loader = torch.utils.data.DataLoader(dataset=train_dataset, \n",
    "                                       batch_size=BATCH_SIZE, \n",
    "                                       shuffle=True)\n",
    "\n",
    "test_loader = torch.utils.data.DataLoader(dataset=test_dataset, \n",
    "                                  batch_size=BATCH_SIZE, \n",
    "                                  shuffle=False)"
   ]
  },
  {
   "cell_type": "code",
   "execution_count": 8,
   "metadata": {},
   "outputs": [
    {
     "name": "stdout",
     "output_type": "stream",
     "text": [
      "Epoch: 0, Accuracy 97.75, train_loss : 0.47285134288171926, test_loss : 0.07196769323432818\n",
      "Epoch: 1, Accuracy 98.4000015258789, train_loss : 0.16257918159787854, test_loss : 0.05079536696372088\n",
      "Epoch: 2, Accuracy 98.4800033569336, train_loss : 0.12626722235853474, test_loss : 0.05024491923810274\n",
      "Epoch: 3, Accuracy 98.86000061035156, train_loss : 0.10480305272775392, test_loss : 0.038932832421214696\n",
      "Epoch: 4, Accuracy 98.81999969482422, train_loss : 0.09337030159154286, test_loss : 0.04213986197775739\n",
      "Epoch: 5, Accuracy 98.91999816894531, train_loss : 0.08332883514696732, test_loss : 0.03419414031532142\n",
      "Epoch: 6, Accuracy 99.0199966430664, train_loss : 0.07639327927182119, test_loss : 0.0335330462314505\n",
      "Epoch: 7, Accuracy 98.98999786376953, train_loss : 0.07301059187118275, test_loss : 0.03401267557553183\n",
      "Epoch: 8, Accuracy 99.05999755859375, train_loss : 0.06749446973515054, test_loss : 0.03539128434434588\n",
      "Epoch: 9, Accuracy 99.11000061035156, train_loss : 0.06592592407794048, test_loss : 0.034872181592645574\n",
      "Epoch: 10, Accuracy 99.0999984741211, train_loss : 0.06537271217054998, test_loss : 0.0330297448339752\n",
      "Epoch: 11, Accuracy 99.22000122070312, train_loss : 0.06067549762510074, test_loss : 0.029478896900873224\n",
      "Epoch: 12, Accuracy 99.26000213623047, train_loss : 0.05606895693034555, test_loss : 0.02962515878821023\n",
      "Epoch: 13, Accuracy 99.26000213623047, train_loss : 0.05513868517746839, test_loss : 0.03137433810623861\n",
      "Epoch: 14, Accuracy 99.23999786376953, train_loss : 0.05248754354892299, test_loss : 0.03081522432260954\n",
      "Epoch: 15, Accuracy 99.25, train_loss : 0.05077658491092734, test_loss : 0.03211065552660784\n",
      "Epoch: 16, Accuracy 99.23999786376953, train_loss : 0.05225476050633006, test_loss : 0.03501376897431101\n"
     ]
    }
   ],
   "source": [
    "early_stopping = EarlyStopping(patience=5, verbose=False)\n",
    "for epoch in range(NUM_EPOCHS):    \n",
    "    train_loss = []\n",
    "    valid_loss= [] \n",
    "    model.train()\n",
    "    for images, labels in train_loader:\n",
    "        images = Variable(images).to(device)\n",
    "        labels = Variable(labels).to(device)\n",
    "        optimizer.zero_grad()\n",
    "        outputs = model(images)\n",
    "        loss = criterion(outputs, labels)\n",
    "        loss.backward()\n",
    "        optimizer.step() \n",
    "        train_loss.append(loss.item())\n",
    "\n",
    "    model.eval()\n",
    "    total = 0.0\n",
    "    correct = 0.0\n",
    "    for images, labels in test_loader:\n",
    "        images = Variable(images).to(device)\n",
    "        labels = Variable(labels).to(device)\n",
    "        outputs = model(images)\n",
    "        _, predicted = torch.max(outputs.data, 1)\n",
    "        loss = criterion(outputs, labels)\n",
    "        total += labels.size(0)\n",
    "        correct += (predicted.cpu() == labels.cpu()).sum()\n",
    "        valid_loss.append(loss.item())\n",
    "    correct = correct.float()\n",
    "    accuracy = 100 * correct / total\n",
    "    train_loss_avg = sum(train_loss) / len(train_loss)\n",
    "    valid_loss_avg = sum(valid_loss) / len(valid_loss)\n",
    "\n",
    "\n",
    "\n",
    "    print('Epoch: {}, Accuracy {}, train_loss : {}, test_loss : {}'.format(epoch, accuracy, train_loss_avg, valid_loss_avg))\n",
    "    early_stopping(valid_loss_avg, model)     \n",
    "    if early_stopping.early_stop:\n",
    "        break\n",
    "\n",
    "\n",
    "# model.load_state_dict(torch.load('checkpoint.pt'))\n",
    "\n"
   ]
  },
  {
   "cell_type": "code",
   "execution_count": 9,
   "metadata": {},
   "outputs": [
    {
     "name": "stdout",
     "output_type": "stream",
     "text": [
      "Acuracy: 99.23999786376953\n"
     ]
    }
   ],
   "source": [
    "model.eval()\n",
    "\n",
    "confusion_matrix = torch.zeros(NUM_CLASSES, NUM_CLASSES)\n",
    "correct = 0\n",
    "total = 0\n",
    "for images, labels in test_loader:\n",
    "    images = images.requires_grad_().to(device)\n",
    "    labels = labels.to(device)\n",
    "    outputs = model(images)\n",
    "    _, predicted = torch.max(outputs.data, 1)\n",
    "    for t, p in zip(labels, predicted):\n",
    "            confusion_matrix[t.long(), p.long()] += 1\n",
    "    total += labels.size(0)\n",
    "    correct += (predicted.cpu() == labels.cpu()).sum()\n",
    "correct = correct.float()\n",
    "accuracy = 100 * correct / total\n",
    "\n",
    "per_class_accuracy = confusion_matrix.diag()/confusion_matrix.sum(1)\n",
    "\n",
    "print('Acuracy: {}'.format(accuracy))"
   ]
  },
  {
   "cell_type": "code",
   "execution_count": null,
   "metadata": {},
   "outputs": [],
   "source": []
  }
 ],
 "metadata": {
  "kernelspec": {
   "display_name": "Python 3",
   "language": "python",
   "name": "python3"
  },
  "language_info": {
   "codemirror_mode": {
    "name": "ipython",
    "version": 3
   },
   "file_extension": ".py",
   "mimetype": "text/x-python",
   "name": "python",
   "nbconvert_exporter": "python",
   "pygments_lexer": "ipython3",
   "version": "3.6.8"
  }
 },
 "nbformat": 4,
 "nbformat_minor": 2
}
